{
 "cells": [
  {
   "cell_type": "markdown",
   "id": "7771004b",
   "metadata": {},
   "source": [
    "### Problème 1 : Vérification des Expressions Parenthésées"
   ]
  },
  {
   "cell_type": "code",
   "execution_count": 6,
   "id": "d76b67ee",
   "metadata": {},
   "outputs": [],
   "source": [
    "def verifier_parentheses(expression):\n",
    "    pile = []\n",
    "    \n",
    "    for char in expression:\n",
    "        if char in \"({[\":\n",
    "            pile.append(char)\n",
    "        elif char in \")}]\":\n",
    "            if not pile:\n",
    "                return False\n",
    "            dernier = pile.pop()\n",
    "            if (char == ')' and dernier != '(') or (char == ']' and dernier != '[') or (char == '}' and dernier != '{'):\n",
    "                return False\n",
    "    \n",
    "    return len(pile) == 0"
   ]
  },
  {
   "cell_type": "code",
   "execution_count": 7,
   "id": "3f0b7b33",
   "metadata": {},
   "outputs": [
    {
     "data": {
      "text/plain": [
       "True"
      ]
     },
     "execution_count": 7,
     "metadata": {},
     "output_type": "execute_result"
    }
   ],
   "source": [
    "verifier_parentheses(\"(3+[(4*2)+(3*3)])\")"
   ]
  },
  {
   "cell_type": "markdown",
   "id": "f8dd5dfc",
   "metadata": {},
   "source": [
    "### Problème 2 : Inversion d'une Phrase avec une Pile"
   ]
  },
  {
   "cell_type": "code",
   "execution_count": 4,
   "id": "c371dd5a",
   "metadata": {},
   "outputs": [],
   "source": [
    "def inverser_phrase(phrase):\n",
    "    pile = phrase.split()\n",
    "    phrase_inverse = []\n",
    "    \n",
    "    while pile:\n",
    "        phrase_inverse.append(pile.pop())\n",
    "    \n",
    "    return ' '.join(phrase_inverse)"
   ]
  },
  {
   "cell_type": "code",
   "execution_count": 5,
   "id": "3cc43cef",
   "metadata": {},
   "outputs": [
    {
     "name": "stdout",
     "output_type": "stream",
     "text": [
      "étudiant suis Je\n"
     ]
    }
   ],
   "source": [
    "print(inverser_phrase(\"Je suis étudiant\"))"
   ]
  },
  {
   "cell_type": "markdown",
   "id": "6348befb",
   "metadata": {},
   "source": [
    "### Problème 3:Simulation d'une file d'attente"
   ]
  },
  {
   "cell_type": "code",
   "execution_count": 8,
   "id": "7c0fdda1",
   "metadata": {},
   "outputs": [
    {
     "name": "stdout",
     "output_type": "stream",
     "text": [
      "État de la file : []\n",
      "Client 1 arrive.\n",
      "État de la file : ['Client 1']\n",
      "État de la file : ['Client 1']\n",
      "Client 3 arrive.\n",
      "Client 1 est servi.\n",
      "État de la file : ['Client 3']\n",
      "État de la file : ['Client 3']\n",
      "État de la file : ['Client 3']\n",
      "Client 6 arrive.\n",
      "État de la file : ['Client 3', 'Client 6']\n",
      "État de la file : ['Client 3', 'Client 6']\n",
      "État de la file : ['Client 3', 'Client 6']\n",
      "Client 9 arrive.\n",
      "Client 3 est servi.\n",
      "État de la file : ['Client 6', 'Client 9']\n"
     ]
    }
   ],
   "source": [
    "import random\n",
    "import time\n",
    "\n",
    "file_attente = []\n",
    "\n",
    "for i in range(10):\n",
    "    if random.random() < 0.5:\n",
    "        client = f\"Client {i}\"\n",
    "        file_attente.append(client)\n",
    "        print(f\"{client} arrive.\")\n",
    "\n",
    "    if random.random() < 0.5 and not file_attente==[]:\n",
    "        print(f\"{file_attente.pop(0)} est servi.\")\n",
    "\n",
    "    print(\"État de la file :\",file_attente)\n",
    "    time.sleep(1)"
   ]
  },
  {
   "cell_type": "code",
   "execution_count": null,
   "id": "2b6c9202",
   "metadata": {},
   "outputs": [],
   "source": []
  }
 ],
 "metadata": {
  "kernelspec": {
   "display_name": "Python 3 (ipykernel)",
   "language": "python",
   "name": "python3"
  },
  "language_info": {
   "codemirror_mode": {
    "name": "ipython",
    "version": 3
   },
   "file_extension": ".py",
   "mimetype": "text/x-python",
   "name": "python",
   "nbconvert_exporter": "python",
   "pygments_lexer": "ipython3",
   "version": "3.9.13"
  }
 },
 "nbformat": 4,
 "nbformat_minor": 5
}
