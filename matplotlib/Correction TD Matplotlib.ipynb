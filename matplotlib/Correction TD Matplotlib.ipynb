{
 "cells": [
  {
   "cell_type": "markdown",
   "id": "7cf15699",
   "metadata": {},
   "source": [
    "### Importation des modules nécessaires"
   ]
  },
  {
   "cell_type": "code",
   "execution_count": 1,
   "id": "ea451b24",
   "metadata": {},
   "outputs": [],
   "source": [
    "import numpy as np\n",
    "import matplotlib.pyplot as plt"
   ]
  },
  {
   "cell_type": "markdown",
   "id": "c7d57b49",
   "metadata": {},
   "source": [
    "# Exercice 1 : Tracer des fonctions trigonométriques multiples\n",
    "### Objectif : Tracer les fonctions y = sin(x), y = cos(x) et y = sin(2x) sur un même graphique.\n",
    "1. Créez un tableau de valeurs x entre 0 et 2π.\n",
    "2. Tracez chacune des fonctions avec des couleurs et des styles de ligne distincts.\n",
    "3. Ajoutez des légendes pour chaque courbe et personnalisez les axes."
   ]
  },
  {
   "cell_type": "code",
   "execution_count": null,
   "id": "bbbc278d",
   "metadata": {},
   "outputs": [],
   "source": [
    "x = np.linspace(0, 2*np.pi, 1000)\n",
    "y1 = np.sin(x)\n",
    "y2 = np.cos(x)\n",
    "y3 = np.sin(2*x)\n",
    "\n",
    "plt.plot(x, y1, label=r'$y = \\sin(x)$', color='red', linestyle='-')\n",
    "plt.plot(x, y2, label=r'$y = \\cos(x)$', color='blue', linestyle='--')\n",
    "plt.plot(x, y3, label=r'$y = \\sin(2x)$', color='green', linestyle=':')\n",
    "\n",
    "plt.title('Fonctions trigonométriques')\n",
    "plt.xlabel('x')\n",
    "plt.ylabel('y')\n",
    "plt.legend()\n",
    "plt.grid(True)\n",
    "plt.show()"
   ]
  },
  {
   "cell_type": "markdown",
   "id": "258d1084",
   "metadata": {},
   "source": [
    "# Exercice 2 : Courbe de Bézier\n",
    "### Objectif : Tracer une courbe de Bézier cubique donnée par les points de contrôle (P0, P1, P2, P3).\n",
    "1. Définissez les points de contrôle : P0 = (0, 0), P1 = (1, 2), P2 = (2, 2), et P3 = (3, 0).\n",
    "2. Utilisez la formule de la courbe de Bézier cubique pour calculer les points de la courbe :\n",
    "B(t) = (1 − t)^3P0 + 3(1 − t)^2tP1 + 3(1 − t)t^2P2 + t^3P3\n",
    "3. Tracez la courbe pour t ∈ [0, 1]."
   ]
  },
  {
   "cell_type": "code",
   "execution_count": null,
   "id": "339a233a",
   "metadata": {},
   "outputs": [],
   "source": [
    "P0 = np.array([0, 0])# np.array([,,,]) permet  de créer une liste de valeurs\n",
    "P1 = np.array([1, 2])\n",
    "P2 = np.array([2, 2])\n",
    "P3 = np.array([3, 0])\n",
    "\n",
    "def bezier(t, P0, P1, P2, P3):\n",
    "    return (1 - t)**3 * P0 + 3 * (1 - t)**2 * t * P1 + 3 * (1 - t) * t**2 * P2 + t**3 * P3\n",
    "\n",
    "t = np.linspace(0, 1, 1000)\n",
    "curve = np.array([bezier(i, P0, P1, P2, P3) for i in t])\n",
    "\n",
    "plt.plot(curve[:, 0], curve[:, 1], label='Courbe de Bézier cubique', color='green')\n",
    "plt.scatter([P0[0], P1[0], P2[0], P3[0]], [P0[1], P1[1], P2[1], P3[1]], color='red')  # Points de contrôle\n",
    "plt.title('Courbe de Bézier Cubique')\n",
    "plt.xlabel('x')\n",
    "plt.ylabel('y')\n",
    "plt.legend()\n",
    "plt.grid(True)\n",
    "plt.show()"
   ]
  },
  {
   "cell_type": "markdown",
   "id": "2e27a1f8",
   "metadata": {},
   "source": [
    "## Exercice 3 : Graphe de la fonction complexe\n",
    "### Objectif : Tracer le module et l’argument d’une fonction complexe f(z) = eiz.\n",
    "1. Créez un tableau de valeurs x entre −2π et 2π.\n",
    "2. Calculez la fonction complexe f(z) = e^{iz}, où z = x + iy et les valeurs imaginaires sont données par\n",
    "np.imag(), les valeurs réelles sont données par np.real().\n",
    "3. Tracez à la fois la partie réelle et la partie imaginaire de la fonction."
   ]
  },
  {
   "cell_type": "code",
   "execution_count": null,
   "id": "4e7020a7",
   "metadata": {},
   "outputs": [],
   "source": [
    "x = np.linspace(-2*np.pi, 2*np.pi, 1000)\n",
    "z = np.exp(1j * x)\n",
    "y_real = np.real(z)\n",
    "y_imag = np.imag(z)\n",
    "\n",
    "plt.plot(x, y_real, label=r'Re($e^{ix}$)', color='red')\n",
    "plt.plot(x, y_imag, label=r'Im($e^{ix}$)', color='blue')\n",
    "\n",
    "plt.title('Fonction complexe $e^{ix}$')\n",
    "plt.xlabel('x')\n",
    "plt.ylabel('Valeur')\n",
    "plt.legend()\n",
    "plt.grid(True)\n",
    "plt.show()"
   ]
  },
  {
   "cell_type": "markdown",
   "id": "8f06e6e5",
   "metadata": {},
   "source": [
    "## Exercice 4 : Ajouter des annotations\n",
    "### Objectif : Ajouter des annotations pour donner plus de détails sur un graphique.\n",
    "1. Utilisez plt.annotate() pour ajouter des annotations à des points spécifiques sur le graphique."
   ]
  },
  {
   "cell_type": "code",
   "execution_count": null,
   "id": "7a5720a8",
   "metadata": {},
   "outputs": [],
   "source": [
    "x = np.linspace(-10, 10, 100)\n",
    "y = np.sin(x)\n",
    "\n",
    "plt.plot(x, y, label='y = sin(x)')\n",
    "plt.title('Fonction sin(x)')\n",
    "plt.xlabel('x')\n",
    "plt.ylabel('y')\n",
    "\n",
    "# Ajouter une annotation au point (0, 0)\n",
    "plt.annotate('Point d\\'origine', xy=(0, 0), xytext=(2, 0.5),\n",
    "             arrowprops=dict(facecolor='red', arrowstyle='->'),\n",
    "             fontsize=12)\n",
    "\n",
    "plt.grid(True)\n",
    "plt.legend()\n",
    "plt.show()"
   ]
  },
  {
   "cell_type": "markdown",
   "id": "c93e5150",
   "metadata": {},
   "source": [
    "## Exercice 5 : Histogramme de distribution\n",
    "### Objectif : Créer un histogramme à partir de données aléatoires.\n",
    "1. Utilisez np.random.randn(1000) pour générer 1000 valeurs suivant une distribution normale.\n",
    "2. Utilisez plt.hist() pour afficher l’histogramme et ajoutez une grille avec plt.grid().\n",
    "3. Personnalisez les labels avec plt.xlabel() et plt.ylabel()."
   ]
  },
  {
   "cell_type": "code",
   "execution_count": null,
   "id": "26753bb8",
   "metadata": {},
   "outputs": [],
   "source": [
    "data = np.random.randn(1000)\n",
    "\n",
    "plt.hist(data, bins=30, color='skyblue', edgecolor='black')\n",
    "plt.title('Histogramme de distribution normale')\n",
    "plt.xlabel('Valeur')\n",
    "plt.ylabel('Fréquence')\n",
    "plt.grid(True)\n",
    "plt.show()"
   ]
  },
  {
   "cell_type": "markdown",
   "id": "9c4f0849",
   "metadata": {},
   "source": [
    "## Exercice 6 : Graphiques en barres\n",
    "### Objectif : Créer un graphique en barres avec des données catégorielles.\n",
    "1. Utilisez plt.bar() pour créer un graphique en barres.\n",
    "2. Fournissez des données sous forme de catégories (produits) et de valeurs correspondantes.\n",
    "3. Ajoutez un titre et des labels pour les axes."
   ]
  },
  {
   "cell_type": "code",
   "execution_count": null,
   "id": "96a3af83",
   "metadata": {},
   "outputs": [],
   "source": [
    "produits = ['Produit A', 'Produit B', 'Produit C', 'Produit D']\n",
    "ventes = [120, 80, 150, 90]\n",
    "\n",
    "plt.bar(produits, ventes, color='orange')\n",
    "plt.title('Ventes par produit')\n",
    "plt.xlabel('Produits')\n",
    "plt.ylabel('Ventes')\n",
    "plt.show()"
   ]
  },
  {
   "cell_type": "markdown",
   "id": "53e114d3",
   "metadata": {},
   "source": [
    "## Exercice 7 : Tracer un graphique à secteurs (pie chart)\n",
    "### Objectif : Visualiser des proportions avec un graphique circulaire.\n",
    "1. Utilisez plt.pie() pour créer un graphique à secteurs.\n",
    "2. Fournissez une liste de valeurs proportionnelles et des étiquettes.\n",
    "3. Ajoutez des pourcentages à chaque portion du graphique en définissant l’argument autopct."
   ]
  },
  {
   "cell_type": "code",
   "execution_count": null,
   "id": "ffe7af81",
   "metadata": {},
   "outputs": [],
   "source": [
    "labels = ['Nourriture', 'Logement', 'Loisirs', 'Autres']\n",
    "sizes = [30, 40, 15, 15]\n",
    "colors = ['#ff9999', '#66b3ff', '#99ff99', '#ffcc99']\n",
    "\n",
    "plt.pie(sizes, labels=labels, colors=colors, autopct='%1.1f%%', startangle=90)\n",
    "plt.title('Répartition des dépenses mensuelles')\n",
    "plt.axis('equal')  # Pour avoir un cercle parfait\n",
    "plt.show()"
   ]
  },
  {
   "cell_type": "markdown",
   "id": "3f9da74b",
   "metadata": {},
   "source": [
    "## Exercice 8 : Tracer plusieurs sous-graphiques (subplots)\n",
    "### Objectif : Utiliser la fonctionnalité subplot pour créer plusieurs graphiques dans une seule figure.\n",
    "1. Utilisez plt.subplot() pour diviser la figure en plusieurs sous-graphiques.\n",
    "2. Tracez une fonction différente dans chaque sous-graphique."
   ]
  },
  {
   "cell_type": "code",
   "execution_count": null,
   "id": "a6120c9a",
   "metadata": {},
   "outputs": [],
   "source": [
    "x = np.linspace(-10, 10, 100)\n",
    "y1 = x**2\n",
    "data = np.random.randn(1000)\n",
    "\n",
    "plt.subplot(2, 2, 1)\n",
    "plt.plot(x, y1, color='red')\n",
    "plt.title('y = x^2')\n",
    "\n",
    "plt.subplot(2, 2, 2)\n",
    "plt.hist(data, bins=30, color='skyblue', edgecolor='black')\n",
    "plt.title('Histogramme')\n",
    "\n",
    "plt.subplot(2, 2, 3)\n",
    "plt.pie([30, 40, 15, 15], labels=['Nourriture', 'Logement', 'Loisirs', 'Autres'], autopct='%1.1f%%', startangle=90)\n",
    "plt.title('Répartition des dépenses')\n",
    "\n",
    "plt.subplot(2, 2, 4)\n",
    "plt.bar(['A', 'B', 'C', 'D'], [120, 80, 150, 90], color='orange')\n",
    "plt.title('Ventes par produit')\n",
    "\n",
    "plt.tight_layout()\n",
    "plt.show()"
   ]
  },
  {
   "cell_type": "markdown",
   "id": "14fdef28",
   "metadata": {},
   "source": [
    "## Exercice 9 : Personnalisation des styles de lignes et des marqueurs\n",
    "### Objectif : Personnaliser les lignes et les marqueurs d’un graphique.\n",
    "1. Utilisez l’argument linestyle pour changer le type de ligne et marker pour ajouter des marqueurs sur la courbe."
   ]
  },
  {
   "cell_type": "code",
   "execution_count": null,
   "id": "c5ba60f4",
   "metadata": {},
   "outputs": [],
   "source": [
    "x = np.linspace(-10, 10, 100)\n",
    "y = x**2\n",
    "\n",
    "plt.plot(x[:50], y[:50], color='blue', linestyle='--', marker='o', label='x ∈ [-10, -5]')\n",
    "plt.plot(x[50:], y[50:], color='green', linestyle='-', marker='s', label='x ∈ [5, 10]')\n",
    "\n",
    "plt.legend()\n",
    "plt.title('Personnalisation des courbes')\n",
    "plt.xlabel('x')\n",
    "plt.ylabel('y')\n",
    "plt.grid(True)\n",
    "# plt.legend()\n",
    "plt.show()"
   ]
  },
  {
   "cell_type": "markdown",
   "id": "48a71e3f",
   "metadata": {},
   "source": []
  }
 ],
 "metadata": {
  "kernelspec": {
   "display_name": "Python 3 (ipykernel)",
   "language": "python",
   "name": "python3"
  },
  "language_info": {
   "codemirror_mode": {
    "name": "ipython",
    "version": 3
   },
   "file_extension": ".py",
   "mimetype": "text/x-python",
   "name": "python",
   "nbconvert_exporter": "python",
   "pygments_lexer": "ipython3",
   "version": "3.9.13"
  }
 },
 "nbformat": 4,
 "nbformat_minor": 5
}
